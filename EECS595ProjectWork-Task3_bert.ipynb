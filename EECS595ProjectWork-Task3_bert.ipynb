{
 "cells": [
  {
   "cell_type": "markdown",
   "metadata": {
    "id": "XASeiU9Xc2VA"
   },
   "source": [
    "#Load Libraries"
   ]
  },
  {
   "cell_type": "code",
   "execution_count": 2,
   "metadata": {
    "colab": {
     "base_uri": "https://localhost:8080/"
    },
    "id": "V2yKwJxdc5Ur",
    "outputId": "ea610903-51c0-4664-f31b-357ec1cd3888",
    "scrolled": true
   },
   "outputs": [
    {
     "name": "stderr",
     "output_type": "stream",
     "text": [
      "2023-12-05 15:00:09.616844: E tensorflow/compiler/xla/stream_executor/cuda/cuda_dnn.cc:9342] Unable to register cuDNN factory: Attempting to register factory for plugin cuDNN when one has already been registered\n",
      "2023-12-05 15:00:09.616886: E tensorflow/compiler/xla/stream_executor/cuda/cuda_fft.cc:609] Unable to register cuFFT factory: Attempting to register factory for plugin cuFFT when one has already been registered\n",
      "2023-12-05 15:00:09.663881: E tensorflow/compiler/xla/stream_executor/cuda/cuda_blas.cc:1518] Unable to register cuBLAS factory: Attempting to register factory for plugin cuBLAS when one has already been registered\n",
      "2023-12-05 15:00:14.889792: I tensorflow/core/platform/cpu_feature_guard.cc:182] This TensorFlow binary is optimized to use available CPU instructions in performance-critical operations.\n",
      "To enable the following instructions: AVX2 AVX512F FMA, in other operations, rebuild TensorFlow with the appropriate compiler flags.\n",
      "2023-12-05 15:00:30.117023: W tensorflow/compiler/tf2tensorrt/utils/py_utils.cc:38] TF-TRT Warning: Could not find TensorRT\n",
      "/sw/pkgs/arc/python3.9-anaconda/2021.11/lib/python3.9/site-packages/scipy/__init__.py:146: UserWarning: A NumPy version >=1.16.5 and <1.23.0 is required for this version of SciPy (detected version 1.26.1\n",
      "  warnings.warn(f\"A NumPy version >={np_minversion} and <{np_maxversion}\"\n"
     ]
    }
   ],
   "source": [
    "import numpy as np\n",
    "import torch\n",
    "\n",
    "device = torch.device(\"cuda:0\") if torch.cuda.is_available() else torch.device(\"cpu\")\n",
    "\n",
    "import random\n",
    "\n",
    "SEED = 595\n",
    "\n",
    "def set_seed(seed):\n",
    "    random.seed(seed)\n",
    "    np.random.seed(seed)\n",
    "    torch.manual_seed(seed)\n",
    "    if torch.cuda.is_available():\n",
    "        torch.cuda.manual_seed_all(seed)\n",
    "\n",
    "# ! pip install transformers\n",
    "# ! pip install datasets\n",
    "# ! pip install evaluate\n",
    "# !pip install pytorch_lightning\n",
    "# !pip install sentencepiece\n",
    "\n",
    "from transformers import pipeline, T5ForConditionalGeneration, T5Tokenizer,AutoTokenizer, BertForSequenceClassification\n",
    "from datasets import load_dataset\n",
    "from torch.utils.data import DataLoader\n",
    "from torch.optim import AdamW\n",
    "from transformers import get_scheduler\n",
    "import evaluate\n",
    "from tqdm.auto import tqdm\n",
    "import sentencepiece as spm\n"
   ]
  },
  {
   "cell_type": "code",
   "execution_count": 3,
   "metadata": {},
   "outputs": [],
   "source": [
    "import os\n",
    "os.environ[\"TOKENIZERS_PARALLELISM\"] = \"false\""
   ]
  },
  {
   "cell_type": "markdown",
   "metadata": {
    "id": "4IPoQuinXpAJ"
   },
   "source": [
    "#Data load"
   ]
  },
  {
   "cell_type": "code",
   "execution_count": 7,
   "metadata": {
    "id": "-UFdoyvAfpEP"
   },
   "outputs": [
    {
     "data": {
      "application/vnd.jupyter.widget-view+json": {
       "model_id": "fc72d26f01484c2d9ed19f0b83166f37",
       "version_major": 2,
       "version_minor": 0
      },
      "text/plain": [
       "pytorch_model.bin:   0%|          | 0.00/440M [00:00<?, ?B/s]"
      ]
     },
     "metadata": {},
     "output_type": "display_data"
    },
    {
     "name": "stderr",
     "output_type": "stream",
     "text": [
      "Some weights of the model checkpoint at bert-base-uncased were not used when initializing BertForSequenceClassification: ['cls.predictions.transform.dense.bias', 'cls.predictions.transform.LayerNorm.weight', 'cls.predictions.transform.LayerNorm.bias', 'cls.predictions.transform.dense.weight', 'cls.predictions.decoder.weight', 'cls.seq_relationship.bias', 'cls.predictions.bias', 'cls.seq_relationship.weight']\n",
      "- This IS expected if you are initializing BertForSequenceClassification from the checkpoint of a model trained on another task or with another architecture (e.g. initializing a BertForSequenceClassification model from a BertForPreTraining model).\n",
      "- This IS NOT expected if you are initializing BertForSequenceClassification from the checkpoint of a model that you expect to be exactly identical (initializing a BertForSequenceClassification model from a BertForSequenceClassification model).\n",
      "Some weights of BertForSequenceClassification were not initialized from the model checkpoint at bert-base-uncased and are newly initialized: ['classifier.bias', 'classifier.weight']\n",
      "You should probably TRAIN this model on a down-stream task to be able to use it for predictions and inference.\n"
     ]
    }
   ],
   "source": [
    "# model = T5ForConditionalGeneration.from_pretrained('t5-base')\n",
    "# tokenizer = T5Tokenizer.from_pretrained('t5-base')\n",
    "model = BertForSequenceClassification.from_pretrained(\"bert-base-uncased\",)#T5ForConditionalGeneration.from_pretrained('t5-base')\n",
    "tokenizer = AutoTokenizer.from_pretrained(\"bert-base-uncased\")#T5Tokenizer.from_pretrained('t5-base')"
   ]
  },
  {
   "cell_type": "markdown",
   "metadata": {
    "id": "KDHiy6K3Xs72"
   },
   "source": [
    "## Regression Task"
   ]
  },
  {
   "cell_type": "code",
   "execution_count": 3,
   "metadata": {
    "colab": {
     "base_uri": "https://localhost:8080/"
    },
    "id": "cXJRS_DvWePP",
    "outputId": "844f1021-017d-426c-ea4a-c8a65f6ed5d9"
   },
   "outputs": [
    {
     "data": {
      "text/plain": [
       "('ID\\tTweet\\tAffect Dimension\\tIntensity Score\\n',\n",
       " '2017-En-30153\\t@liamch88 yeah! :) playing well \\tvalence\\t0.600\\n',\n",
       " \"2017-En-40929\\tAt least I don't have a guy trying to discourage me anymore in what I want to do he will never become anything worth contributing to society\\tvalence\\t0.484\\n\")"
      ]
     },
     "execution_count": 3,
     "metadata": {},
     "output_type": "execute_result"
    }
   ],
   "source": [
    "import torch\n",
    "with open(\"2018-Valence-reg-En-train.txt\") as f: #use utf-8 text open\n",
    "  lines=f.readlines()\n",
    "  # lines=txt.split('\\n')\n",
    "lines[0],lines[1],lines[2]"
   ]
  },
  {
   "cell_type": "code",
   "execution_count": 8,
   "metadata": {
    "id": "Vj0hdE1cZ4Vc"
   },
   "outputs": [],
   "source": [
    "from torch.utils.data import Dataset, DataLoader\n",
    "class ImdbDataset(Dataset):\n",
    "  def __init__(self, tokenizer, data_dir, type_path,  max_len=512):\n",
    "    self.max_len = max_len\n",
    "    self.tokenizer = tokenizer\n",
    "    self.inputs = []\n",
    "    self.targets = []\n",
    "    self.pos_files=data_dir#\n",
    "\n",
    "    self._build()\n",
    "\n",
    "  def __len__(self):\n",
    "    return len(self.inputs)\n",
    "\n",
    "  def __getitem__(self, index):\n",
    "    source_ids = self.inputs[index][\"input_ids\"].squeeze()\n",
    "    target_ids = self.targets[index]#[\"input_ids\"].squeeze()\n",
    "\n",
    "    src_mask    = self.inputs[index][\"attention_mask\"].squeeze()  # might need to squeeze\n",
    "    target_mask = self.targets[index]#[\"attention_mask\"].squeeze()  # might need to squeeze\n",
    "\n",
    "    return {\"source_ids\": source_ids, \"source_mask\": src_mask, \"target_ids\": target_ids, \"target_mask\": target_mask}\n",
    "\n",
    "  def _build(self):\n",
    "    self._buil_examples_from_files(self.pos_files)\n",
    "\n",
    "  def _buil_examples_from_files(self, files):\n",
    "    with open(files,'r') as f: #use utf-8 text open\n",
    "      lines=f.readlines()\n",
    "\n",
    "    lines=lines[1:]\n",
    "    for string in lines:\n",
    "        line=string[:-2].strip().split('\\t')\n",
    "        line=[i for i in line if i!='']\n",
    "        text=line[1]+'. '+line[2]+\" \"\n",
    "        target=str(line[3])+\" \"\n",
    "       \n",
    "    \n",
    "\n",
    "        # tokenize inputs\n",
    "        tokenized_inputs = self.tokenizer.batch_encode_plus(\n",
    "          [text], max_length=self.max_len, return_tensors=\"pt\",pad_to_max_length=True,#padding='longest'#\n",
    "        )\n",
    "        # tokenize targets, line[3]\n",
    "        tokenized_targets = self.tokenizer.batch_encode_plus(\n",
    "          [target], max_length=3,  return_tensors=\"pt\",pad_to_max_length=True,#padding='longest'#\n",
    "        )\n",
    "#         print(target,self.tokenizer.decode(tokenized_targets[\"input_ids\"][0]))#self.tokenizer.decode(tokenized_targets[\"input_ids\"])\n",
    "        self.inputs.append(tokenized_inputs)\n",
    "        self.targets.append(float(line[3]))\n",
    "def get_dataset(tokenizer, type_path, args):\n",
    "    if type_path==\"train\":\n",
    "        return ImdbDataset(tokenizer=tokenizer, data_dir=\"2018-Valence-reg-En-train.txt\", type_path=type_path,  max_len=args.max_seq_length)#\n",
    "    else:\n",
    "        return ImdbDataset(tokenizer=tokenizer, data_dir=\"2018-Valence-reg-En-dev.txt\", type_path=type_path,  max_len=args.max_seq_length)\n"
   ]
  },
  {
   "cell_type": "code",
   "execution_count": 3,
   "metadata": {},
   "outputs": [],
   "source": [
    "tokenizer = T5Tokenizer.from_pretrained('t5-small')"
   ]
  },
  {
   "cell_type": "code",
   "execution_count": 9,
   "metadata": {
    "colab": {
     "base_uri": "https://localhost:8080/"
    },
    "id": "M-tSxfsUDAfE",
    "outputId": "d1675324-b51d-478f-9ccd-691a871506b1",
    "scrolled": true
   },
   "outputs": [
    {
     "name": "stderr",
     "output_type": "stream",
     "text": [
      "Truncation was not explicitly activated but `max_length` is provided a specific value, please use `truncation=True` to explicitly truncate examples to max length. Defaulting to 'longest_first' truncation strategy. If you encode pairs of sequences (GLUE-style) with the tokenizer you can select this strategy more precisely by providing a specific strategy to `truncation`.\n",
      "/home/lmou/.local/lib/python3.9/site-packages/transformers/tokenization_utils_base.py:2302: FutureWarning: The `pad_to_max_length` argument is deprecated and will be removed in a future version, use `padding=True` or `padding='longest'` to pad to the longest sequence in the batch, or use `padding='max_length'` to pad to a max length. In this case, you can give a specific length with `max_length` (e.g. `max_length=45`) or leave max_length to None to pad to the maximal input size of the model (e.g. 512 for Bert).\n",
      "  warnings.warn(\n"
     ]
    },
    {
     "name": "stdout",
     "output_type": "stream",
     "text": [
      "[CLS] at least i don't have a guy trying to discourage me anymore in what i want to do he will never become anything worth contributing to society. valence [SEP] [PAD] [PAD] [PAD] [PAD] [PAD] [PAD]\n",
      "0.6\n"
     ]
    }
   ],
   "source": [
    "# val_dataset.inputs[0]['input_ids']\n",
    "# import argparse\n",
    "# val_dataset = get_dataset(tokenizer=tokenizer, type_path=\"train\", args=args)\n",
    "# test_dataset=get_dataset(tokenizer=tokenizer, type_path=\"test\", args=args)\n",
    "# data = val_dataset[1]\n",
    "# print(val_dataset.targets[0])\n",
    "import argparse\n",
    "args_dict=dict(max_seq_length=40)\n",
    "args = argparse.Namespace(**args_dict)\n",
    "val_dataset = get_dataset(tokenizer=tokenizer, type_path=\"train\", args=args)\n",
    "test_dataset=get_dataset(tokenizer=tokenizer, type_path=\"test\", args=args)\n",
    "data = val_dataset[1]\n",
    "print(tokenizer.decode(data['source_ids']))\n",
    "print(val_dataset.targets[0])"
   ]
  },
  {
   "cell_type": "code",
   "execution_count": 40,
   "metadata": {},
   "outputs": [
    {
     "name": "stdout",
     "output_type": "stream",
     "text": [
      "At least I don't have a guy trying to discourage me anymore in what I want to do he will never become anything worth contributing to society. valence</s> <pad> <pad> <pad> <pad>\n",
      "0.48\n"
     ]
    }
   ],
   "source": [
    "print(tokenizer.decode(data['source_ids']))\n",
    "print(tokenizer.decode(data['target_ids'])[:-4])"
   ]
  },
  {
   "cell_type": "code",
   "execution_count": 5,
   "metadata": {
    "colab": {
     "base_uri": "https://localhost:8080/"
    },
    "id": "h3PHPZ_SvMPk",
    "outputId": "966db9a2-46e3-4c0e-d6e2-6f86110988ea"
   },
   "outputs": [
    {
     "name": "stderr",
     "output_type": "stream",
     "text": [
      "[nltk_data] Downloading package punkt to /home/lmou/nltk_data...\n",
      "[nltk_data]   Package punkt is already up-to-date!\n"
     ]
    }
   ],
   "source": [
    "import argparse\n",
    "import glob\n",
    "import os\n",
    "import json\n",
    "import time\n",
    "import logging\n",
    "import random\n",
    "import re\n",
    "from itertools import chain\n",
    "from string import punctuation\n",
    "\n",
    "import nltk\n",
    "nltk.download('punkt')\n",
    "from nltk.tokenize import sent_tokenize\n",
    "\n",
    "import pandas as pd\n",
    "import numpy as np\n",
    "import torch\n",
    "from torch.utils.data import Dataset, DataLoader\n",
    "import pytorch_lightning as pl\n",
    "\n",
    "\n",
    "from transformers import (\n",
    "    AdamW,\n",
    "    T5ForConditionalGeneration,\n",
    "    T5Tokenizer,\n",
    "    get_linear_schedule_with_warmup,\n",
    "    BertConfig\n",
    ")"
   ]
  },
  {
   "cell_type": "code",
   "execution_count": null,
   "metadata": {
    "id": "0c1IedZO-wNa"
   },
   "outputs": [],
   "source": [
    "next(dataloader_iterator)"
   ]
  },
  {
   "cell_type": "code",
   "execution_count": 55,
   "metadata": {
    "colab": {
     "base_uri": "https://localhost:8080/"
    },
    "id": "YVBUfrLOvNXX",
    "outputId": "346644e9-c19d-48c9-c5e0-42d5a21bf707"
   },
   "outputs": [],
   "source": [
    "n_gpu=1\n",
    "gradient_accumulation_steps=64\n",
    "num_train_epochs=20\n",
    "warmup_steps=0\n",
    "adam_epsilon=1e-8\n",
    "learning_rate=0.001\n",
    "weight_decay=0.0\n",
    "no_decay = [\"bias\", \"LayerNorm.weight\"]\n",
    "model_self = T5ForConditionalGeneration.from_pretrained(\"t5-small\")\n",
    "optimizer_grouped_parameters = [\n",
    "    {\n",
    "        \"params\": [p for n, p in model_self.named_parameters() if not any(nd in n for nd in no_decay)],\n",
    "        \"weight_decay\": weight_decay,\n",
    "    },\n",
    "    {\n",
    "        \"params\": [p for n, p in model_self.named_parameters() if any(nd in n for nd in no_decay)],\n",
    "        \"weight_decay\": 0.0,\n",
    "    },\n",
    "]\n",
    "dataloader = DataLoader(val_dataset, batch_size=32, drop_last=True, shuffle=True, num_workers=2)\n",
    "optimizer = AdamW(optimizer_grouped_parameters, lr=learning_rate, eps=adam_epsilon)\n",
    "opt = optimizer\n",
    "t_total = (\n",
    "    (len(dataloader.dataset) // (32 * max(1, n_gpu)))\n",
    "    // gradient_accumulation_steps\n",
    "    * float(num_train_epochs)\n",
    ")\n",
    "scheduler = get_linear_schedule_with_warmup(\n",
    "    opt, num_warmup_steps=warmup_steps, num_training_steps=t_total\n",
    ")\n",
    "lr_scheduler = scheduler\n",
    "\n",
    "dataloader_iterator = iter(dataloader)\n",
    "for i in range(int(t_total)):\n",
    "    try:\n",
    "      batch=next(dataloader_iterator)\n",
    "    except:\n",
    "      dataloader_iterator = iter(dataloader)#'source_ids', 'source_mask', 'target_ids', 'target_mask'\n",
    "      batch = next(dataloader_iterator)\n",
    "    targets = batch[\"target_ids\"]\n",
    "    targets[targets[:, :] == val_dataset.tokenizer.pad_token_id] = -100\n",
    "    inputs,inputs_mask= batch[\"source_ids\"], batch[\"source_mask\"]\n",
    "    target_mask=batch[\"target_mask\"]\n",
    "    y_pred = model_self(input_ids=inputs,\n",
    "        attention_mask=inputs_mask,\n",
    "        labels=targets,\n",
    "        decoder_attention_mask=target_mask)\n",
    "    print(y_pred.loss)\n",
    "    optimizer.step()\n",
    "    optimizer.zero_grad()\n",
    "    lr_scheduler.step()\n"
   ]
  },
  {
   "cell_type": "code",
   "execution_count": 42,
   "metadata": {},
   "outputs": [
    {
     "data": {
      "application/vnd.jupyter.widget-view+json": {
       "model_id": "14f9c0bfc82643dc94c922a42034d7ec",
       "version_major": 2,
       "version_minor": 0
      },
      "text/plain": [
       "  0%|          | 0/56 [00:01<?, ?it/s]"
      ]
     },
     "metadata": {},
     "output_type": "display_data"
    },
    {
     "name": "stdout",
     "output_type": "stream",
     "text": [
      "[tensor([    0,  1713, 28365,    15,   434,    23,  6992,     3,    18,     3,\n",
      "          547,   277,     3, 13366,  5591,   453,    30,   271,    39,  4663,\n",
      "        12644,    83,  1162,  1044,    79,    31,   195,   453,    30,   271,\n",
      "         1713,    51,  4901,   179,     5]), tensor([    0, 32099,     8,     3,   210,  1795,   107,    13,     3,     9,\n",
      "         1713,  6623,   109,  1907,    51,     9, 12603,     6, 17144,     6,\n",
      "         1713,  6623,   109,  1907,    51,     9,    28,     3,     9,  1229,\n",
      "            5,     3,     2,    27,    31]), tensor([    0,    86,   204,   727,   985,    13,     8,  1974,    47,     3,\n",
      "            9,   207, 12082, 12373,  1974,    13,  1233,  1713,   188,    29,\n",
      "          232,    32,   279, 17475,     9,  3320,    17,     9,     9,   102,\n",
      "         2338,  1713,   134,    52,    77]), tensor([    0,  3320,    29, 10398, 20884,  2681,   455,    21,  2111,     3,\n",
      "            9,  1907,  7933,     4,  1274,   977,     6,   718,  4981,     6,\n",
      "          455,     3,    31, 11502,    53,    31,    11,   150,   580,   223,\n",
      "          469,    55,  1713,     7, 19076]), tensor([   0,    3, 2165, 1433,    1,    0,    0,    0,    0,    0,    0,    0,\n",
      "           0,    0,    0,    0,    0,    0,    0,    0,    0,    0,    0,    0,\n",
      "           0,    0,    0,    0,    0,    0,    0,    0,    0,    0,    0]), tensor([    0,  3320, 10499,    32,  1927, 23553,  2163,     6,    42,   273,\n",
      "        16822,  7967,   484,  4876,    55,     5,     1,     0,     0,     0,\n",
      "            0,     0,     0,     0,     0,     0,     0,     0,     0,     0,\n",
      "            0,     0,     0,     0,     0]), tensor([    0, 32099,  3320,   279,     9,    26,   566, 15729,  9082,   134,\n",
      "         3320,   134,    15, 16794,  1208, 12988,   651,   156,    48,   737,\n",
      "           31,    17,   143,   140,    78, 12603,     6,    27,    31,    26,\n",
      "           36, 20692,    44,    48, 10657]), tensor([   0,    3, 2165, 1433,    1,    0,    0,    0,    0,    0,    0,    0,\n",
      "           0,    0,    0,    0,    0,    0,    0,    0,    0,    0,    0,    0,\n",
      "           0,    0,    0,    0,    0,    0,    0,    0,    0,    0,    0])]\n",
      "<pad> #LouiseLinton - haters gonna hate keep on being your#fabulous self they'll keep on being #miserable. 0.</s>\n"
     ]
    }
   ],
   "source": [
    "from sklearn.metrics import mean_squared_error\n",
    "loader = DataLoader(test_dataset, batch_size=8, drop_last=True, shuffle=True, num_workers=2)\n",
    "model_self.eval()\n",
    "outputs = []\n",
    "targets = []\n",
    "for batch in tqdm(loader):\n",
    "    outs = model_self.generate(input_ids=batch['source_ids'], \n",
    "                              attention_mask=batch['source_mask'],\n",
    "                              max_length=35)\n",
    "    print([i for i in outs])\n",
    "    print(tokenizer.decode(outs[0]),tokenizer.decode(batch[\"target_ids\"][0]))\n",
    "    break\n",
    "\n",
    "    dec = [float(tokenizer.decode(ids)[:-4]) for ids in outs]\n",
    "    target = [float(tokenizer.decode(ids)[:-4]) for ids in batch[\"target_ids\"]]\n",
    "\n",
    "    outputs.extend(dec)\n",
    "    targets.extend(target)\n",
    "# mean_squared_error(outputs,targets)"
   ]
  },
  {
   "cell_type": "code",
   "execution_count": 20,
   "metadata": {
    "colab": {
     "base_uri": "https://localhost:8080/",
     "height": 451,
     "referenced_widgets": [
      "a2dabc6f0506407e8b115f703b0327c9",
      "411f1645c1514a87bf7e4f64aeb36863",
      "bcb4552b1aea4b22b43da116aed4805e",
      "e909e29433bc4b25986c804a4e9d683f",
      "cc2c80e172d04dadb9e2b95366d25a6c",
      "0cffdb88279e402e86f1bf75767eea99",
      "a89977b54a294802a34de86a6e3487a5",
      "8fe069ef1bd9441495c3b1f179046a1e",
      "d73731f8256e47d5b2946d2c9e29eb2d",
      "f2023928b44f4e66816c01daa4b3fc6a",
      "32be5a53c42a4ac39eae5262351df36e",
      "09ee3c3387e648829be5455e85ac8c58",
      "5627839469a34fae820f672c9cb9aad7",
      "2b18fdfa6e2c408c9482f85d3bd51323",
      "8203143db7ef4794940164f529cd2d2b",
      "be30cc394dd54a6f9e6edcb45d08f531",
      "077fd572497b4b098940fdb14befdec8",
      "58ea4a944c1a4f7286dd21d16c01fa10",
      "d9b853f4acf94001ac51728abcceef65",
      "55ce8e26aa2347dc8ba38dfd6107e839",
      "59d74ff47448490da9fb9f32baae1182",
      "548df0e841e14b8496b26a2e622bb934"
     ]
    },
    "id": "i6qGn5VRhRlX",
    "outputId": "0c175dd4-70be-4111-c431-91b628f41dc0",
    "scrolled": true
   },
   "outputs": [
    {
     "name": "stdout",
     "output_type": "stream",
     "text": [
      "t5-small\n"
     ]
    },
    {
     "name": "stderr",
     "output_type": "stream",
     "text": [
      "Some weights of the model checkpoint at bert-base-uncased were not used when initializing BertForSequenceClassification: ['cls.predictions.transform.dense.bias', 'cls.predictions.transform.LayerNorm.weight', 'cls.predictions.transform.LayerNorm.bias', 'cls.predictions.transform.dense.weight', 'cls.predictions.decoder.weight', 'cls.seq_relationship.bias', 'cls.predictions.bias', 'cls.seq_relationship.weight']\n",
      "- This IS expected if you are initializing BertForSequenceClassification from the checkpoint of a model trained on another task or with another architecture (e.g. initializing a BertForSequenceClassification model from a BertForPreTraining model).\n",
      "- This IS NOT expected if you are initializing BertForSequenceClassification from the checkpoint of a model that you expect to be exactly identical (initializing a BertForSequenceClassification model from a BertForSequenceClassification model).\n",
      "Some weights of BertForSequenceClassification were not initialized from the model checkpoint at bert-base-uncased and are newly initialized: ['classifier.bias', 'classifier.weight']\n",
      "You should probably TRAIN this model on a down-stream task to be able to use it for predictions and inference.\n",
      "GPU available: True (cuda), used: True\n",
      "TPU available: False, using: 0 TPU cores\n",
      "IPU available: False, using: 0 IPUs\n",
      "HPU available: False, using: 0 HPUs\n",
      "LOCAL_RANK: 0 - CUDA_VISIBLE_DEVICES: [0]\n",
      "\n",
      "  | Name  | Type                          | Params\n",
      "--------------------------------------------------------\n",
      "0 | model | BertForSequenceClassification | 109 M \n",
      "--------------------------------------------------------\n",
      "109 M     Trainable params\n",
      "0         Non-trainable params\n",
      "109 M     Total params\n",
      "437.932   Total estimated model params size (MB)\n"
     ]
    },
    {
     "data": {
      "application/vnd.jupyter.widget-view+json": {
       "model_id": "",
       "version_major": 2,
       "version_minor": 0
      },
      "text/plain": [
       "Sanity Checking: |          | 0/? [00:00<?, ?it/s]"
      ]
     },
     "metadata": {},
     "output_type": "display_data"
    },
    {
     "name": "stderr",
     "output_type": "stream",
     "text": [
      "Truncation was not explicitly activated but `max_length` is provided a specific value, please use `truncation=True` to explicitly truncate examples to max length. Defaulting to 'longest_first' truncation strategy. If you encode pairs of sequences (GLUE-style) with the tokenizer you can select this strategy more precisely by providing a specific strategy to `truncation`.\n"
     ]
    },
    {
     "name": "stdout",
     "output_type": "stream",
     "text": [
      "[]\n"
     ]
    },
    {
     "data": {
      "application/vnd.jupyter.widget-view+json": {
       "model_id": "0eed35863e0d49a2bf9fa9d9f4899df4",
       "version_major": 2,
       "version_minor": 0
      },
      "text/plain": [
       "Training: |          | 0/? [00:00<?, ?it/s]"
      ]
     },
     "metadata": {},
     "output_type": "display_data"
    },
    {
     "data": {
      "application/vnd.jupyter.widget-view+json": {
       "model_id": "",
       "version_major": 2,
       "version_minor": 0
      },
      "text/plain": [
       "Validation: |          | 0/? [00:00<?, ?it/s]"
      ]
     },
     "metadata": {},
     "output_type": "display_data"
    },
    {
     "name": "stdout",
     "output_type": "stream",
     "text": [
      "[]\n",
      "tensor(0.0436, device='cuda:0', grad_fn=<MeanBackward0>)\n"
     ]
    },
    {
     "data": {
      "application/vnd.jupyter.widget-view+json": {
       "model_id": "",
       "version_major": 2,
       "version_minor": 0
      },
      "text/plain": [
       "Validation: |          | 0/? [00:00<?, ?it/s]"
      ]
     },
     "metadata": {},
     "output_type": "display_data"
    },
    {
     "name": "stdout",
     "output_type": "stream",
     "text": [
      "[0.043595753610134125]\n",
      "tensor(0.0175, device='cuda:0', grad_fn=<MeanBackward0>)\n"
     ]
    },
    {
     "data": {
      "application/vnd.jupyter.widget-view+json": {
       "model_id": "",
       "version_major": 2,
       "version_minor": 0
      },
      "text/plain": [
       "Validation: |          | 0/? [00:00<?, ?it/s]"
      ]
     },
     "metadata": {},
     "output_type": "display_data"
    },
    {
     "name": "stdout",
     "output_type": "stream",
     "text": [
      "[0.043595753610134125, 0.01749550551176071]\n",
      "tensor(0.0108, device='cuda:0', grad_fn=<MeanBackward0>)\n"
     ]
    },
    {
     "data": {
      "application/vnd.jupyter.widget-view+json": {
       "model_id": "",
       "version_major": 2,
       "version_minor": 0
      },
      "text/plain": [
       "Validation: |          | 0/? [00:00<?, ?it/s]"
      ]
     },
     "metadata": {},
     "output_type": "display_data"
    },
    {
     "name": "stdout",
     "output_type": "stream",
     "text": [
      "[0.043595753610134125, 0.01749550551176071, 0.010817151516675949]\n",
      "tensor(0.0083, device='cuda:0', grad_fn=<MeanBackward0>)\n"
     ]
    },
    {
     "data": {
      "application/vnd.jupyter.widget-view+json": {
       "model_id": "",
       "version_major": 2,
       "version_minor": 0
      },
      "text/plain": [
       "Validation: |          | 0/? [00:00<?, ?it/s]"
      ]
     },
     "metadata": {},
     "output_type": "display_data"
    },
    {
     "name": "stdout",
     "output_type": "stream",
     "text": [
      "[0.043595753610134125, 0.01749550551176071, 0.010817151516675949, 0.008255386725068092]\n",
      "tensor(0.0072, device='cuda:0', grad_fn=<MeanBackward0>)\n"
     ]
    },
    {
     "name": "stderr",
     "output_type": "stream",
     "text": [
      "`Trainer.fit` stopped: `max_epochs=5` reached.\n"
     ]
    },
    {
     "data": {
      "image/png": "[encoded data removed]",
      "text/plain": [
       "<Figure size 432x288 with 1 Axes>"
      ]
     },
     "metadata": {
      "needs_background": "light"
     },
     "output_type": "display_data"
    }
   ],
   "source": [
    "import matplotlib.pyplot as plt\n",
    "args_dict = dict(\n",
    "    data_dir=\"2018-Valence-reg-En-train.txt\", # path for data files\n",
    "    output_dir=\"./\", # path to save the checkpoints\n",
    "    model_name_or_path='t5-small',\n",
    "    tokenizer_name_or_path='t5-small',\n",
    "    max_seq_length=50,\n",
    "    learning_rate=2e-5,\n",
    "    weight_decay=0.0,\n",
    "    adam_epsilon=1e-8,\n",
    "    warmup_steps=0,\n",
    "    train_batch_size=8,\n",
    "    eval_batch_size=8,\n",
    "    num_train_epochs=5,\n",
    "    # gradient_accumulation_steps=4,\n",
    "    n_gpu=1,\n",
    "    # early_stop_callback=False,\n",
    "    fp_16=False, # if you want to enable 16-bit training then install apex and set this to true\n",
    "    opt_level='O1', # you can find out more on optimisation levels here https://nvidia.github.io/apex/amp.html#opt-levels-and-properties\n",
    "    max_grad_norm=1.0, # if you enable 16-bit training then set this to a sensible value, 0.5 is a good default\n",
    "    seed=42,\n",
    ")\n",
    "class T5FineTuner(pl.LightningModule):\n",
    "  def __init__(self, hparams):\n",
    "    super(T5FineTuner, self).__init__()\n",
    "    print(hparams.model_name_or_path)\n",
    "    self.hparamss = hparams\n",
    "    self.validation_step_outputs = []\n",
    "    self.training_step_outputs= []\n",
    "#     self.automatic_optimization = False ,ignore_mismatched_sizes=True\n",
    "\n",
    "    self.model = BertForSequenceClassification.from_pretrained(\"bert-base-uncased\", num_labels=1).cuda()#T5ForConditionalGeneration.from_pretrained(hparams.model_name_or_path)\n",
    "    config = BertConfig.from_pretrained(\n",
    "            \"bert-base-uncased\",#'textattack/bert-base-uncased-yelp-polarity',\n",
    "            num_labels = 1,\n",
    "#             output_attentions = False,\n",
    "#             output_hidden_states = False,\n",
    "#             hidden_dropout_prob=0.5,\n",
    "#             args={\n",
    "#                 'use_cached_eval_features': False,\n",
    "#                 'no_cache': True,\n",
    "#                 'overwrite_output_dir': True,\n",
    "#                 'reprocess_input_data': True,\n",
    "#             }\n",
    "        )\n",
    "\n",
    "#     self.model = BertForSequenceClassification(config)\n",
    "    self.tokenizer = AutoTokenizer.from_pretrained(\"bert-base-uncased\")#T5Tokenizer.from_pretrained(hparams.tokenizer_name_or_path)\n",
    "\n",
    "  def is_logger(self):\n",
    "    return self.trainer.global_rank <= 0\n",
    "\n",
    "  def forward(\n",
    "      self, input_ids, attention_mask=None, decoder_input_ids=None, decoder_attention_mask=None,labels=None\n",
    "  ):\n",
    "    return self.model(\n",
    "        input_ids,\n",
    "        attention_mask=attention_mask,\n",
    "#         decoder_input_ids=decoder_input_ids,\n",
    "#         decoder_attention_mask=decoder_attention_mask,\n",
    "        token_type_ids=None, \n",
    "        labels=labels,\n",
    "    )\n",
    "\n",
    "  def _step(self, batch):\n",
    "    lm_labels = batch[\"target_ids\"]\n",
    "    lm_labels=lm_labels.type(torch.float32)#.to(device)\n",
    "#     lm_labels[lm_labels[:, :] == self.tokenizer.pad_token_id] = -100\n",
    "\n",
    "    outputs = self(\n",
    "        input_ids=batch[\"source_ids\"],\n",
    "        attention_mask=batch[\"source_mask\"],\n",
    "        labels=lm_labels,\n",
    "#         decoder_attention_mask=batch['target_mask']\n",
    "    )\n",
    "    \n",
    "    \n",
    "    loss = outputs[0]\n",
    "#     print(lm_labels,outputs)\n",
    "    self.validation_step_outputs.append(loss)\n",
    "\n",
    "    return loss\n",
    "\n",
    "  def training_step(self, batch, batch_idx):\n",
    "#     print(batch)\n",
    "    loss = self._step(batch)\n",
    "#     self.lr_scheduler.step()\n",
    "#     print(\"train loss\",loss)\n",
    "    self.training_step_outputs.append(loss)\n",
    "\n",
    "    tensorboard_logs = {\"train_loss\": loss}\n",
    "    return {\"loss\": loss, \"log\": tensorboard_logs}\n",
    "\n",
    "  def on_train_epoch_end(self):#, outputs\n",
    "    avg_train_loss = torch.stack(self.validation_step_outputs).mean()\n",
    "#     print(avg_train_loss)\n",
    "    # avg_train_loss = torch.stack([x[\"loss\"] for x in outputs]).mean()\n",
    "    tensorboard_logs = {\"avg_train_loss\": avg_train_loss}\n",
    "\n",
    "    return {\"avg_train_loss\": avg_train_loss, \"log\": tensorboard_logs, 'progress_bar': tensorboard_logs}\n",
    "\n",
    "  def validation_step(self, batch, batch_idx):\n",
    "    loss = self._step(batch)\n",
    "#     print(\"val loss \",loss)\n",
    "    self.validation_step_outputs.append(loss)\n",
    "    return {\"val_loss\": loss}\n",
    "\n",
    "  def on_validation_epoch_end(self):#, outputs\n",
    "    avg_loss = torch.stack(self.validation_step_outputs).mean()\n",
    "#     avg_loss = torch.stack([x[\"val_loss\"] for x in outputs]).mean()\n",
    "    tensorboard_logs = {\"val_loss\": avg_loss}\n",
    "\n",
    "    # self.log(\"validation_epoch_average\", avg_loss)\n",
    "#     self.validation_step_outputs.clear()  # free memory\n",
    "#     self.validation_step_outputs=[]\n",
    "\n",
    "    return {\"avg_val_loss\": avg_loss, \"log\": tensorboard_logs, 'progress_bar': tensorboard_logs}\n",
    "\n",
    "  def configure_optimizers(self):\n",
    "    \"Prepare optimizer and schedule (linear warmup and decay)\"\n",
    "\n",
    "    model = self.model\n",
    "    no_decay = [\"bias\", \"LayerNorm.weight\"]\n",
    "    optimizer_grouped_parameters = [\n",
    "        {\n",
    "            \"params\": [p for n, p in model.named_parameters() if not any(nd in n for nd in no_decay)],\n",
    "            \"weight_decay\": self.hparamss.weight_decay,\n",
    "        },\n",
    "        {\n",
    "            \"params\": [p for n, p in model.named_parameters() if any(nd in n for nd in no_decay)],\n",
    "            \"weight_decay\": 0.0,\n",
    "        },\n",
    "    ]\n",
    "    optimizer = AdamW(optimizer_grouped_parameters, lr=self.hparamss.learning_rate, eps=self.hparamss.adam_epsilon)\n",
    "    self.opt = optimizer\n",
    "    return [optimizer]\n",
    "\n",
    "    def optimizer_step(self, epoch, batch_idx, optimizer, optimizer_closure):\n",
    "        optimizer.step()\n",
    "        self.lr_scheduler.step()\n",
    "  # def optimizer_step(self, epoch, batch_idx, optimizer, optimizer_idx, second_order_closure=None):\n",
    "  #   # if self.trainer.use_tpu:\n",
    "  #   #   xm.optimizer_step(optimizer)\n",
    "  #   # else:\n",
    "  #   optimizer.step()\n",
    "  #   optimizer.zero_grad()\n",
    "  #   self.lr_scheduler.step()\n",
    "\n",
    "  def get_tqdm_dict(self):\n",
    "    tqdm_dict = {\"loss\": \"{:.3f}\".format(self.trainer.avg_loss), \"lr\": self.lr_scheduler.get_last_lr()[-1]}\n",
    "\n",
    "    return tqdm_dict\n",
    "\n",
    "  def train_dataloader(self):\n",
    "    train_dataset = get_dataset(tokenizer=self.tokenizer, type_path=\"train\", args=self.hparamss)\n",
    "    dataloader = DataLoader(train_dataset, batch_size=self.hparamss.train_batch_size, drop_last=True, shuffle=True, num_workers=2)\n",
    "    t_total = (\n",
    "        (len(dataloader.dataset) // (self.hparamss.train_batch_size * max(1, self.hparamss.n_gpu)))\n",
    "        # // self.hparamss.gradient_accumulation_steps\n",
    "        * float(self.hparamss.num_train_epochs)\n",
    "    )\n",
    "    scheduler = get_linear_schedule_with_warmup(\n",
    "        self.opt, num_warmup_steps=self.hparamss.warmup_steps, num_training_steps=t_total\n",
    "    )\n",
    "    self.lr_scheduler = scheduler\n",
    "    return dataloader\n",
    "\n",
    "  def val_dataloader(self):\n",
    "    val_dataset = get_dataset(tokenizer=self.tokenizer, type_path=\"val\", args=self.hparamss)\n",
    "    return DataLoader(val_dataset, batch_size=self.hparamss.eval_batch_size, num_workers=2)\n",
    "logger = logging.getLogger(__name__)\n",
    "\n",
    "class LoggingCallback(pl.Callback):\n",
    "  def __init__(self):\n",
    "        self.collection = []\n",
    "\n",
    "  def on_train_epoch_end(self, trainer, pl_module):\n",
    "        # do something with all training_step outputs, for example:\n",
    "        epoch_mean = torch.stack(pl_module.training_step_outputs).mean()\n",
    "        print(epoch_mean)\n",
    "        self.collection.append(epoch_mean.detach().cpu().item())\n",
    "        pl_module.log(\"training_epoch_mean\", epoch_mean)\n",
    "        # free up the memory\n",
    "        pl_module.training_step_outputs.clear()\n",
    "  def on_validation_end(self, trainer, pl_module):\n",
    "    logger.info(\"***** Validation results *****\")\n",
    "    if pl_module.is_logger():\n",
    "      metrics = trainer.callback_metrics\n",
    "      # Log results\n",
    "      for key in sorted(metrics):\n",
    "        if key not in [\"log\", \"progress_bar\"]:\n",
    "          logger.info(\"{} = {}\\n\".format(key, str(metrics[key])))\n",
    "    plt.plot(range(len(self.collection)),self.collection)\n",
    "    print(self.collection)\n",
    "    plt.savefig('bert.png')\n",
    "\n",
    "  def on_test_end(self, trainer, pl_module):\n",
    "    logger.info(\"***** Test results *****\")\n",
    "\n",
    "    if pl_module.is_logger():\n",
    "      metrics = trainer.callback_metrics\n",
    "\n",
    "      # Log and save results to file\n",
    "      output_test_results_file = os.path.join(pl_module.hparamss.output_dir, \"test_results.txt\")\n",
    "      with open(output_test_results_file, \"w\") as writer:\n",
    "        for key in sorted(metrics):\n",
    "          if key not in [\"log\", \"progress_bar\"]:\n",
    "            logger.info(\"{} = {}\\n\".format(key, str(metrics[key])))\n",
    "            writer.write(\"{} = {}\\n\".format(key, str(metrics[key])))\n",
    "    \n",
    "args = argparse.Namespace(**args_dict)\n",
    "\n",
    "checkpoint_callback = pl.callbacks.ModelCheckpoint(\n",
    "     dirpath=args.output_dir,monitor=\"val_loss\", mode=\"min\", save_top_k=5\n",
    ")\n",
    "\n",
    "train_params = dict(\n",
    "    # accumulate_grad_batches=args.gradient_accumulation_steps,\n",
    "    # gpus=args.n_gpu,\n",
    "    max_epochs=args.num_train_epochs,\n",
    "    # early_stop_callback=False,\n",
    "    precision= 16 if args.fp_16 else 32,\n",
    "    # amp_level=args.opt_level,\n",
    "    # gradient_clip_val=args.max_grad_norm,\n",
    "    # checkpoint_callback=checkpoint_callback,\n",
    "    callbacks=[LoggingCallback()],\n",
    ")\n",
    "model = T5FineTuner(args)\n",
    "trainer = pl.Trainer(**train_params)\n",
    "trainer.fit(model)"
   ]
  },
  {
   "cell_type": "code",
   "execution_count": 23,
   "metadata": {
    "scrolled": true
   },
   "outputs": [
    {
     "data": {
      "application/vnd.jupyter.widget-view+json": {
       "model_id": "0b78eed0547642c1add7621753c4f9dd",
       "version_major": 2,
       "version_minor": 0
      },
      "text/plain": [
       "  0%|          | 0/14 [00:00<?, ?it/s]"
      ]
     },
     "metadata": {},
     "output_type": "display_data"
    },
    {
     "data": {
      "text/plain": [
       "0.017070663288027876"
      ]
     },
     "execution_count": 23,
     "metadata": {},
     "output_type": "execute_result"
    }
   ],
   "source": [
    "from sklearn.metrics import mean_squared_error\n",
    "loader = DataLoader(test_dataset, batch_size=32, drop_last=True, shuffle=True, num_workers=2)\n",
    "def is_float(element):\n",
    "    try:\n",
    "        float(element)\n",
    "        return True\n",
    "    except ValueError:\n",
    "        return False\n",
    "\n",
    "model.model.eval()\n",
    "outputs = []\n",
    "targets = []\n",
    "for batch in tqdm(loader):\n",
    "#     outs = model.model.generate(input_ids=batch['source_ids'], \n",
    "#                               attention_mask=batch['source_mask'],\n",
    "#                               max_length=args.max_seq_length)\n",
    "    with torch.no_grad():      \n",
    "        outs = model(input_ids=batch['source_ids'], \n",
    "                                  attention_mask=batch['source_mask'],\n",
    "                                  )\n",
    "#         print(outs)\n",
    "        dec=outs.logits.squeeze().tolist()\n",
    "        #.detach().cpu().to_list()\n",
    "        target=batch['target_ids'].tolist()\n",
    "#     break\n",
    "#         print(target)\n",
    "\n",
    "#     for i in range(len(outs)):\n",
    "#         ids=batch[\"target_ids\"][i]\n",
    "# #         print(tokenizer.decode(ids),tokenizer.decode(ids)[:-4])\n",
    "# #         break\n",
    "#         if is_float(tokenizer.decode(ids)[:-4]):\n",
    "#             target.append(float(tokenizer.decode(ids)[:-4]))\n",
    "#         else:\n",
    "#             continue\n",
    "#         ids=outs[i]\n",
    "#         splitted=tokenizer.decode(ids).split()\n",
    "#         for s in splitted:\n",
    "#             if s !=\"<pad>\":\n",
    "#                 if is_float(s):\n",
    "#                     dec.append(float(s))\n",
    "#                 elif is_float(s[:-4]):\n",
    "#                     dec.append(float(s[:-4]))\n",
    "#                 else:\n",
    "#                     dec.append(0.5)\n",
    "\n",
    "    outputs.extend(dec)\n",
    "    targets.extend(target)\n",
    "mean_squared_error(outputs,targets)"
   ]
  },
  {
   "cell_type": "code",
   "execution_count": 24,
   "metadata": {},
   "outputs": [
    {
     "data": {
      "application/vnd.jupyter.widget-view+json": {
       "model_id": "28b7a503bf424854b2213380568497df",
       "version_major": 2,
       "version_minor": 0
      },
      "text/plain": [
       "  0%|          | 0/14 [00:00<?, ?it/s]"
      ]
     },
     "metadata": {},
     "output_type": "display_data"
    },
    {
     "name": "stdout",
     "output_type": "stream",
     "text": [
      "torch.Size([32, 45])\n",
      "torch.Size([32, 45])\n",
      "torch.Size([32, 45])\n",
      "torch.Size([32, 45])\n",
      "torch.Size([32, 45])\n",
      "torch.Size([32, 45])\n",
      "torch.Size([32, 45])\n",
      "torch.Size([32, 45])\n",
      "torch.Size([32, 45])\n",
      "torch.Size([32, 45])\n",
      "torch.Size([32, 45])\n",
      "torch.Size([32, 45])\n",
      "torch.Size([32, 45])\n",
      "torch.Size([32, 45])\n"
     ]
    }
   ],
   "source": [
    "X=[]\n",
    "for batch in tqdm(loader):\n",
    "    print(batch['source_ids'].shape)\n",
    "    X.append(batch['source_ids'])\n",
    "X=torch.stack(X).reshape(-1,45)"
   ]
  },
  {
   "cell_type": "code",
   "execution_count": 25,
   "metadata": {},
   "outputs": [
    {
     "data": {
      "text/plain": [
       "(0.8154554644343006, 5.747724948880483e-108)"
      ]
     },
     "execution_count": 25,
     "metadata": {},
     "output_type": "execute_result"
    }
   ],
   "source": [
    "from scipy.stats import pearsonr \n",
    "# print(X[0])\n",
    "pearsonr(outputs,targets)"
   ]
  },
  {
   "cell_type": "code",
   "execution_count": 24,
   "metadata": {},
   "outputs": [
    {
     "data": {
      "text/plain": [
       "([0.3230552077293396,\n",
       "  0.2604173421859741,\n",
       "  0.4456808865070343,\n",
       "  0.23358213901519775,\n",
       "  0.5484130382537842,\n",
       "  0.724588930606842,\n",
       "  0.6375454068183899,\n",
       "  0.6982479095458984,\n",
       "  0.4598047435283661],\n",
       " [0.33, 0.31, 0.38, 0.1, 0.64, 0.48, 0.68, 0.86, 0.33],\n",
       " 89,\n",
       " 448,\n",
       " 448)"
      ]
     },
     "execution_count": 24,
     "metadata": {},
     "output_type": "execute_result"
    }
   ],
   "source": [
    "outputs[1:10],targets[1:10],len(set(targets)),len(outputs),len(targets)"
   ]
  },
  {
   "cell_type": "code",
   "execution_count": 10,
   "metadata": {},
   "outputs": [
    {
     "data": {
      "text/plain": [
       "([0.46, 0.24, 0.26, 0.64, 0.66, 0.53, 0.08, 0.32, 0.72],\n",
       " [0.66, 0.11, 0.52, 0.63, 0.64, 0.87, 0.27, 0.22, 0.78],\n",
       " 89,\n",
       " 448,\n",
       " 448)"
      ]
     },
     "execution_count": 10,
     "metadata": {},
     "output_type": "execute_result"
    }
   ],
   "source": [
    "outputs[1:10],targets[1:10],len(set(targets)),len(outputs),len(targets)"
   ]
  },
  {
   "cell_type": "code",
   "execution_count": 23,
   "metadata": {},
   "outputs": [
    {
     "data": {
      "image/png": "[encoded data removed]",
      "text/plain": [
       "<Figure size 432x288 with 1 Axes>"
      ]
     },
     "metadata": {
      "needs_background": "light"
     },
     "output_type": "display_data"
    }
   ],
   "source": [
    "import  matplotlib.pyplot as plt\n",
    "vali_loss=[i.tolist() for i in model.validation_step_outputs]#validation\n",
    "plt.plot(range(len(vali_loss)),vali_loss)\n",
    "plt.show()"
   ]
  },
  {
   "cell_type": "code",
   "execution_count": 59,
   "metadata": {},
   "outputs": [
    {
     "data": {
      "text/plain": [
       "([0.5, 0.46, 0.36, 0.5, 0.48, 0.5, 0.5, 0.5, 0.51],\n",
       " [0.48, 0.31, 0.2, 0.2, 0.26, 0.13, 0.87, 0.5, 0.35],\n",
       " 89,\n",
       " 448,\n",
       " 448)"
      ]
     },
     "execution_count": 59,
     "metadata": {},
     "output_type": "execute_result"
    }
   ],
   "source": [
    "outputs[1:10],targets[1:10],len(set(targets)),len(outputs),len(targets)"
   ]
  },
  {
   "cell_type": "code",
   "execution_count": 14,
   "metadata": {},
   "outputs": [],
   "source": [
    "torch.save(model.model.state_dict(), \"./40_epoch_model\")"
   ]
  }
 ],
 "metadata": {
  "colab": {
   "provenance": []
  },
  "kernelspec": {
   "display_name": "Python 3 (ipykernel)",
   "language": "python",
   "name": "python3"
  },
  "language_info": {
   "codemirror_mode": {
    "name": "ipython",
    "version": 3
   },
   "file_extension": ".py",
   "mimetype": "text/x-python",
   "name": "python",
   "nbconvert_exporter": "python",
   "pygments_lexer": "ipython3",
   "version": "3.9.7"
  },
  "widgets": {
   "application/vnd.jupyter.widget-state+json": {
    "077fd572497b4b098940fdb14befdec8": {
     "model_module": "@jupyter-widgets/base",
     "model_module_version": "1.2.0",
     "model_name": "LayoutModel",
     "state": {
      "_model_module": "@jupyter-widgets/base",
      "_model_module_version": "1.2.0",
      "_model_name": "LayoutModel",
      "_view_count": null,
      "_view_module": "@jupyter-widgets/base",
      "_view_module_version": "1.2.0",
      "_view_name": "LayoutView",
      "align_content": null,
      "align_items": null,
      "align_self": null,
      "border": null,
      "bottom": null,
      "display": null,
      "flex": null,
      "flex_flow": null,
      "grid_area": null,
      "grid_auto_columns": null,
      "grid_auto_flow": null,
      "grid_auto_rows": null,
      "grid_column": null,
      "grid_gap": null,
      "grid_row": null,
      "grid_template_areas": null,
      "grid_template_columns": null,
      "grid_template_rows": null,
      "height": null,
      "justify_content": null,
      "justify_items": null,
      "left": null,
      "margin": null,
      "max_height": null,
      "max_width": null,
      "min_height": null,
      "min_width": null,
      "object_fit": null,
      "object_position": null,
      "order": null,
      "overflow": null,
      "overflow_x": null,
      "overflow_y": null,
      "padding": null,
      "right": null,
      "top": null,
      "visibility": null,
      "width": null
     }
    },
    "09ee3c3387e648829be5455e85ac8c58": {
     "model_module": "@jupyter-widgets/controls",
     "model_module_version": "1.5.0",
     "model_name": "HBoxModel",
     "state": {
      "_dom_classes": [],
      "_model_module": "@jupyter-widgets/controls",
      "_model_module_version": "1.5.0",
      "_model_name": "HBoxModel",
      "_view_count": null,
      "_view_module": "@jupyter-widgets/controls",
      "_view_module_version": "1.5.0",
      "_view_name": "HBoxView",
      "box_style": "",
      "children": [
       "IPY_MODEL_5627839469a34fae820f672c9cb9aad7",
       "IPY_MODEL_2b18fdfa6e2c408c9482f85d3bd51323",
       "IPY_MODEL_8203143db7ef4794940164f529cd2d2b"
      ],
      "layout": "IPY_MODEL_be30cc394dd54a6f9e6edcb45d08f531"
     }
    },
    "0baaebfa31a44f5b94fc30d6370d2516": {
     "model_module": "@jupyter-widgets/controls",
     "model_module_version": "1.5.0",
     "model_name": "HTMLModel",
     "state": {
      "_dom_classes": [],
      "_model_module": "@jupyter-widgets/controls",
      "_model_module_version": "1.5.0",
      "_model_name": "HTMLModel",
      "_view_count": null,
      "_view_module": "@jupyter-widgets/controls",
      "_view_module_version": "1.5.0",
      "_view_name": "HTMLView",
      "description": "",
      "description_tooltip": null,
      "layout": "IPY_MODEL_e300c7733300444394a28b61f46be94f",
      "placeholder": "​",
      "style": "IPY_MODEL_579c00dbb3d541ffac1a39dff00416c4",
      "value": "Map:   0%"
     }
    },
    "0cffdb88279e402e86f1bf75767eea99": {
     "model_module": "@jupyter-widgets/base",
     "model_module_version": "1.2.0",
     "model_name": "LayoutModel",
     "state": {
      "_model_module": "@jupyter-widgets/base",
      "_model_module_version": "1.2.0",
      "_model_name": "LayoutModel",
      "_view_count": null,
      "_view_module": "@jupyter-widgets/base",
      "_view_module_version": "1.2.0",
      "_view_name": "LayoutView",
      "align_content": null,
      "align_items": null,
      "align_self": null,
      "border": null,
      "bottom": null,
      "display": null,
      "flex": null,
      "flex_flow": null,
      "grid_area": null,
      "grid_auto_columns": null,
      "grid_auto_flow": null,
      "grid_auto_rows": null,
      "grid_column": null,
      "grid_gap": null,
      "grid_row": null,
      "grid_template_areas": null,
      "grid_template_columns": null,
      "grid_template_rows": null,
      "height": null,
      "justify_content": null,
      "justify_items": null,
      "left": null,
      "margin": null,
      "max_height": null,
      "max_width": null,
      "min_height": null,
      "min_width": null,
      "object_fit": null,
      "object_position": null,
      "order": null,
      "overflow": null,
      "overflow_x": null,
      "overflow_y": null,
      "padding": null,
      "right": null,
      "top": null,
      "visibility": null,
      "width": null
     }
    },
    "27eb6e1a00bf4dd39a2894118d4688bf": {
     "model_module": "@jupyter-widgets/controls",
     "model_module_version": "1.5.0",
     "model_name": "HTMLModel",
     "state": {
      "_dom_classes": [],
      "_model_module": "@jupyter-widgets/controls",
      "_model_module_version": "1.5.0",
      "_model_name": "HTMLModel",
      "_view_count": null,
      "_view_module": "@jupyter-widgets/controls",
      "_view_module_version": "1.5.0",
      "_view_name": "HTMLView",
      "description": "",
      "description_tooltip": null,
      "layout": "IPY_MODEL_459a4530f0874ed3b6de75c716e6e9c9",
      "placeholder": "​",
      "style": "IPY_MODEL_53bece7db4684033b3454701e92a63e3",
      "value": " 0/6838 [00:00&lt;?, ? examples/s]"
     }
    },
    "2b18fdfa6e2c408c9482f85d3bd51323": {
     "model_module": "@jupyter-widgets/controls",
     "model_module_version": "1.5.0",
     "model_name": "FloatProgressModel",
     "state": {
      "_dom_classes": [],
      "_model_module": "@jupyter-widgets/controls",
      "_model_module_version": "1.5.0",
      "_model_name": "FloatProgressModel",
      "_view_count": null,
      "_view_module": "@jupyter-widgets/controls",
      "_view_module_version": "1.5.0",
      "_view_name": "ProgressView",
      "bar_style": "",
      "description": "",
      "description_tooltip": null,
      "layout": "IPY_MODEL_d9b853f4acf94001ac51728abcceef65",
      "max": 147,
      "min": 0,
      "orientation": "horizontal",
      "style": "IPY_MODEL_55ce8e26aa2347dc8ba38dfd6107e839",
      "value": 38
     }
    },
    "32be5a53c42a4ac39eae5262351df36e": {
     "model_module": "@jupyter-widgets/controls",
     "model_module_version": "1.5.0",
     "model_name": "DescriptionStyleModel",
     "state": {
      "_model_module": "@jupyter-widgets/controls",
      "_model_module_version": "1.5.0",
      "_model_name": "DescriptionStyleModel",
      "_view_count": null,
      "_view_module": "@jupyter-widgets/base",
      "_view_module_version": "1.2.0",
      "_view_name": "StyleView",
      "description_width": ""
     }
    },
    "3b130e976ea04a8c9da6dbe026760d3e": {
     "model_module": "@jupyter-widgets/base",
     "model_module_version": "1.2.0",
     "model_name": "LayoutModel",
     "state": {
      "_model_module": "@jupyter-widgets/base",
      "_model_module_version": "1.2.0",
      "_model_name": "LayoutModel",
      "_view_count": null,
      "_view_module": "@jupyter-widgets/base",
      "_view_module_version": "1.2.0",
      "_view_name": "LayoutView",
      "align_content": null,
      "align_items": null,
      "align_self": null,
      "border": null,
      "bottom": null,
      "display": null,
      "flex": null,
      "flex_flow": null,
      "grid_area": null,
      "grid_auto_columns": null,
      "grid_auto_flow": null,
      "grid_auto_rows": null,
      "grid_column": null,
      "grid_gap": null,
      "grid_row": null,
      "grid_template_areas": null,
      "grid_template_columns": null,
      "grid_template_rows": null,
      "height": null,
      "justify_content": null,
      "justify_items": null,
      "left": null,
      "margin": null,
      "max_height": null,
      "max_width": null,
      "min_height": null,
      "min_width": null,
      "object_fit": null,
      "object_position": null,
      "order": null,
      "overflow": null,
      "overflow_x": null,
      "overflow_y": null,
      "padding": null,
      "right": null,
      "top": null,
      "visibility": null,
      "width": null
     }
    },
    "411f1645c1514a87bf7e4f64aeb36863": {
     "model_module": "@jupyter-widgets/controls",
     "model_module_version": "1.5.0",
     "model_name": "HTMLModel",
     "state": {
      "_dom_classes": [],
      "_model_module": "@jupyter-widgets/controls",
      "_model_module_version": "1.5.0",
      "_model_name": "HTMLModel",
      "_view_count": null,
      "_view_module": "@jupyter-widgets/controls",
      "_view_module_version": "1.5.0",
      "_view_name": "HTMLView",
      "description": "",
      "description_tooltip": null,
      "layout": "IPY_MODEL_0cffdb88279e402e86f1bf75767eea99",
      "placeholder": "​",
      "style": "IPY_MODEL_a89977b54a294802a34de86a6e3487a5",
      "value": "Sanity Checking DataLoader 0: 100%"
     }
    },
    "459a4530f0874ed3b6de75c716e6e9c9": {
     "model_module": "@jupyter-widgets/base",
     "model_module_version": "1.2.0",
     "model_name": "LayoutModel",
     "state": {
      "_model_module": "@jupyter-widgets/base",
      "_model_module_version": "1.2.0",
      "_model_name": "LayoutModel",
      "_view_count": null,
      "_view_module": "@jupyter-widgets/base",
      "_view_module_version": "1.2.0",
      "_view_name": "LayoutView",
      "align_content": null,
      "align_items": null,
      "align_self": null,
      "border": null,
      "bottom": null,
      "display": null,
      "flex": null,
      "flex_flow": null,
      "grid_area": null,
      "grid_auto_columns": null,
      "grid_auto_flow": null,
      "grid_auto_rows": null,
      "grid_column": null,
      "grid_gap": null,
      "grid_row": null,
      "grid_template_areas": null,
      "grid_template_columns": null,
      "grid_template_rows": null,
      "height": null,
      "justify_content": null,
      "justify_items": null,
      "left": null,
      "margin": null,
      "max_height": null,
      "max_width": null,
      "min_height": null,
      "min_width": null,
      "object_fit": null,
      "object_position": null,
      "order": null,
      "overflow": null,
      "overflow_x": null,
      "overflow_y": null,
      "padding": null,
      "right": null,
      "top": null,
      "visibility": null,
      "width": null
     }
    },
    "53bece7db4684033b3454701e92a63e3": {
     "model_module": "@jupyter-widgets/controls",
     "model_module_version": "1.5.0",
     "model_name": "DescriptionStyleModel",
     "state": {
      "_model_module": "@jupyter-widgets/controls",
      "_model_module_version": "1.5.0",
      "_model_name": "DescriptionStyleModel",
      "_view_count": null,
      "_view_module": "@jupyter-widgets/base",
      "_view_module_version": "1.2.0",
      "_view_name": "StyleView",
      "description_width": ""
     }
    },
    "548df0e841e14b8496b26a2e622bb934": {
     "model_module": "@jupyter-widgets/controls",
     "model_module_version": "1.5.0",
     "model_name": "DescriptionStyleModel",
     "state": {
      "_model_module": "@jupyter-widgets/controls",
      "_model_module_version": "1.5.0",
      "_model_name": "DescriptionStyleModel",
      "_view_count": null,
      "_view_module": "@jupyter-widgets/base",
      "_view_module_version": "1.2.0",
      "_view_name": "StyleView",
      "description_width": ""
     }
    },
    "55ce8e26aa2347dc8ba38dfd6107e839": {
     "model_module": "@jupyter-widgets/controls",
     "model_module_version": "1.5.0",
     "model_name": "ProgressStyleModel",
     "state": {
      "_model_module": "@jupyter-widgets/controls",
      "_model_module_version": "1.5.0",
      "_model_name": "ProgressStyleModel",
      "_view_count": null,
      "_view_module": "@jupyter-widgets/base",
      "_view_module_version": "1.2.0",
      "_view_name": "StyleView",
      "bar_color": null,
      "description_width": ""
     }
    },
    "5627839469a34fae820f672c9cb9aad7": {
     "model_module": "@jupyter-widgets/controls",
     "model_module_version": "1.5.0",
     "model_name": "HTMLModel",
     "state": {
      "_dom_classes": [],
      "_model_module": "@jupyter-widgets/controls",
      "_model_module_version": "1.5.0",
      "_model_name": "HTMLModel",
      "_view_count": null,
      "_view_module": "@jupyter-widgets/controls",
      "_view_module_version": "1.5.0",
      "_view_name": "HTMLView",
      "description": "",
      "description_tooltip": null,
      "layout": "IPY_MODEL_077fd572497b4b098940fdb14befdec8",
      "placeholder": "​",
      "style": "IPY_MODEL_58ea4a944c1a4f7286dd21d16c01fa10",
      "value": "Epoch 0:  26%"
     }
    },
    "579c00dbb3d541ffac1a39dff00416c4": {
     "model_module": "@jupyter-widgets/controls",
     "model_module_version": "1.5.0",
     "model_name": "DescriptionStyleModel",
     "state": {
      "_model_module": "@jupyter-widgets/controls",
      "_model_module_version": "1.5.0",
      "_model_name": "DescriptionStyleModel",
      "_view_count": null,
      "_view_module": "@jupyter-widgets/base",
      "_view_module_version": "1.2.0",
      "_view_name": "StyleView",
      "description_width": ""
     }
    },
    "58ea4a944c1a4f7286dd21d16c01fa10": {
     "model_module": "@jupyter-widgets/controls",
     "model_module_version": "1.5.0",
     "model_name": "DescriptionStyleModel",
     "state": {
      "_model_module": "@jupyter-widgets/controls",
      "_model_module_version": "1.5.0",
      "_model_name": "DescriptionStyleModel",
      "_view_count": null,
      "_view_module": "@jupyter-widgets/base",
      "_view_module_version": "1.2.0",
      "_view_name": "StyleView",
      "description_width": ""
     }
    },
    "59d74ff47448490da9fb9f32baae1182": {
     "model_module": "@jupyter-widgets/base",
     "model_module_version": "1.2.0",
     "model_name": "LayoutModel",
     "state": {
      "_model_module": "@jupyter-widgets/base",
      "_model_module_version": "1.2.0",
      "_model_name": "LayoutModel",
      "_view_count": null,
      "_view_module": "@jupyter-widgets/base",
      "_view_module_version": "1.2.0",
      "_view_name": "LayoutView",
      "align_content": null,
      "align_items": null,
      "align_self": null,
      "border": null,
      "bottom": null,
      "display": null,
      "flex": null,
      "flex_flow": null,
      "grid_area": null,
      "grid_auto_columns": null,
      "grid_auto_flow": null,
      "grid_auto_rows": null,
      "grid_column": null,
      "grid_gap": null,
      "grid_row": null,
      "grid_template_areas": null,
      "grid_template_columns": null,
      "grid_template_rows": null,
      "height": null,
      "justify_content": null,
      "justify_items": null,
      "left": null,
      "margin": null,
      "max_height": null,
      "max_width": null,
      "min_height": null,
      "min_width": null,
      "object_fit": null,
      "object_position": null,
      "order": null,
      "overflow": null,
      "overflow_x": null,
      "overflow_y": null,
      "padding": null,
      "right": null,
      "top": null,
      "visibility": null,
      "width": null
     }
    },
    "7ff3a8d95e0446c9acdec292b22c0403": {
     "model_module": "@jupyter-widgets/controls",
     "model_module_version": "1.5.0",
     "model_name": "HBoxModel",
     "state": {
      "_dom_classes": [],
      "_model_module": "@jupyter-widgets/controls",
      "_model_module_version": "1.5.0",
      "_model_name": "HBoxModel",
      "_view_count": null,
      "_view_module": "@jupyter-widgets/controls",
      "_view_module_version": "1.5.0",
      "_view_name": "HBoxView",
      "box_style": "",
      "children": [
       "IPY_MODEL_0baaebfa31a44f5b94fc30d6370d2516",
       "IPY_MODEL_a8cb3f14dd3d4ce2b23435917c0460fe",
       "IPY_MODEL_27eb6e1a00bf4dd39a2894118d4688bf"
      ],
      "layout": "IPY_MODEL_ecb5a57845384bab85ea97d5d54e108a"
     }
    },
    "8203143db7ef4794940164f529cd2d2b": {
     "model_module": "@jupyter-widgets/controls",
     "model_module_version": "1.5.0",
     "model_name": "HTMLModel",
     "state": {
      "_dom_classes": [],
      "_model_module": "@jupyter-widgets/controls",
      "_model_module_version": "1.5.0",
      "_model_name": "HTMLModel",
      "_view_count": null,
      "_view_module": "@jupyter-widgets/controls",
      "_view_module_version": "1.5.0",
      "_view_name": "HTMLView",
      "description": "",
      "description_tooltip": null,
      "layout": "IPY_MODEL_59d74ff47448490da9fb9f32baae1182",
      "placeholder": "​",
      "style": "IPY_MODEL_548df0e841e14b8496b26a2e622bb934",
      "value": " 38/147 [01:03&lt;03:03,  0.60it/s, v_num=14]"
     }
    },
    "8fe069ef1bd9441495c3b1f179046a1e": {
     "model_module": "@jupyter-widgets/base",
     "model_module_version": "1.2.0",
     "model_name": "LayoutModel",
     "state": {
      "_model_module": "@jupyter-widgets/base",
      "_model_module_version": "1.2.0",
      "_model_name": "LayoutModel",
      "_view_count": null,
      "_view_module": "@jupyter-widgets/base",
      "_view_module_version": "1.2.0",
      "_view_name": "LayoutView",
      "align_content": null,
      "align_items": null,
      "align_self": null,
      "border": null,
      "bottom": null,
      "display": null,
      "flex": "2",
      "flex_flow": null,
      "grid_area": null,
      "grid_auto_columns": null,
      "grid_auto_flow": null,
      "grid_auto_rows": null,
      "grid_column": null,
      "grid_gap": null,
      "grid_row": null,
      "grid_template_areas": null,
      "grid_template_columns": null,
      "grid_template_rows": null,
      "height": null,
      "justify_content": null,
      "justify_items": null,
      "left": null,
      "margin": null,
      "max_height": null,
      "max_width": null,
      "min_height": null,
      "min_width": null,
      "object_fit": null,
      "object_position": null,
      "order": null,
      "overflow": null,
      "overflow_x": null,
      "overflow_y": null,
      "padding": null,
      "right": null,
      "top": null,
      "visibility": null,
      "width": null
     }
    },
    "a2dabc6f0506407e8b115f703b0327c9": {
     "model_module": "@jupyter-widgets/controls",
     "model_module_version": "1.5.0",
     "model_name": "HBoxModel",
     "state": {
      "_dom_classes": [],
      "_model_module": "@jupyter-widgets/controls",
      "_model_module_version": "1.5.0",
      "_model_name": "HBoxModel",
      "_view_count": null,
      "_view_module": "@jupyter-widgets/controls",
      "_view_module_version": "1.5.0",
      "_view_name": "HBoxView",
      "box_style": "",
      "children": [
       "IPY_MODEL_411f1645c1514a87bf7e4f64aeb36863",
       "IPY_MODEL_bcb4552b1aea4b22b43da116aed4805e",
       "IPY_MODEL_e909e29433bc4b25986c804a4e9d683f"
      ],
      "layout": "IPY_MODEL_cc2c80e172d04dadb9e2b95366d25a6c"
     }
    },
    "a89977b54a294802a34de86a6e3487a5": {
     "model_module": "@jupyter-widgets/controls",
     "model_module_version": "1.5.0",
     "model_name": "DescriptionStyleModel",
     "state": {
      "_model_module": "@jupyter-widgets/controls",
      "_model_module_version": "1.5.0",
      "_model_name": "DescriptionStyleModel",
      "_view_count": null,
      "_view_module": "@jupyter-widgets/base",
      "_view_module_version": "1.2.0",
      "_view_name": "StyleView",
      "description_width": ""
     }
    },
    "a8cb3f14dd3d4ce2b23435917c0460fe": {
     "model_module": "@jupyter-widgets/controls",
     "model_module_version": "1.5.0",
     "model_name": "FloatProgressModel",
     "state": {
      "_dom_classes": [],
      "_model_module": "@jupyter-widgets/controls",
      "_model_module_version": "1.5.0",
      "_model_name": "FloatProgressModel",
      "_view_count": null,
      "_view_module": "@jupyter-widgets/controls",
      "_view_module_version": "1.5.0",
      "_view_name": "ProgressView",
      "bar_style": "danger",
      "description": "",
      "description_tooltip": null,
      "layout": "IPY_MODEL_3b130e976ea04a8c9da6dbe026760d3e",
      "max": 6838,
      "min": 0,
      "orientation": "horizontal",
      "style": "IPY_MODEL_c427b4ad68564891a71f93774f83762c",
      "value": 0
     }
    },
    "bcb4552b1aea4b22b43da116aed4805e": {
     "model_module": "@jupyter-widgets/controls",
     "model_module_version": "1.5.0",
     "model_name": "FloatProgressModel",
     "state": {
      "_dom_classes": [],
      "_model_module": "@jupyter-widgets/controls",
      "_model_module_version": "1.5.0",
      "_model_name": "FloatProgressModel",
      "_view_count": null,
      "_view_module": "@jupyter-widgets/controls",
      "_view_module_version": "1.5.0",
      "_view_name": "ProgressView",
      "bar_style": "",
      "description": "",
      "description_tooltip": null,
      "layout": "IPY_MODEL_8fe069ef1bd9441495c3b1f179046a1e",
      "max": 2,
      "min": 0,
      "orientation": "horizontal",
      "style": "IPY_MODEL_d73731f8256e47d5b2946d2c9e29eb2d",
      "value": 2
     }
    },
    "be30cc394dd54a6f9e6edcb45d08f531": {
     "model_module": "@jupyter-widgets/base",
     "model_module_version": "1.2.0",
     "model_name": "LayoutModel",
     "state": {
      "_model_module": "@jupyter-widgets/base",
      "_model_module_version": "1.2.0",
      "_model_name": "LayoutModel",
      "_view_count": null,
      "_view_module": "@jupyter-widgets/base",
      "_view_module_version": "1.2.0",
      "_view_name": "LayoutView",
      "align_content": null,
      "align_items": null,
      "align_self": null,
      "border": null,
      "bottom": null,
      "display": "inline-flex",
      "flex": null,
      "flex_flow": "row wrap",
      "grid_area": null,
      "grid_auto_columns": null,
      "grid_auto_flow": null,
      "grid_auto_rows": null,
      "grid_column": null,
      "grid_gap": null,
      "grid_row": null,
      "grid_template_areas": null,
      "grid_template_columns": null,
      "grid_template_rows": null,
      "height": null,
      "justify_content": null,
      "justify_items": null,
      "left": null,
      "margin": null,
      "max_height": null,
      "max_width": null,
      "min_height": null,
      "min_width": null,
      "object_fit": null,
      "object_position": null,
      "order": null,
      "overflow": null,
      "overflow_x": null,
      "overflow_y": null,
      "padding": null,
      "right": null,
      "top": null,
      "visibility": null,
      "width": "100%"
     }
    },
    "c427b4ad68564891a71f93774f83762c": {
     "model_module": "@jupyter-widgets/controls",
     "model_module_version": "1.5.0",
     "model_name": "ProgressStyleModel",
     "state": {
      "_model_module": "@jupyter-widgets/controls",
      "_model_module_version": "1.5.0",
      "_model_name": "ProgressStyleModel",
      "_view_count": null,
      "_view_module": "@jupyter-widgets/base",
      "_view_module_version": "1.2.0",
      "_view_name": "StyleView",
      "bar_color": null,
      "description_width": ""
     }
    },
    "cc2c80e172d04dadb9e2b95366d25a6c": {
     "model_module": "@jupyter-widgets/base",
     "model_module_version": "1.2.0",
     "model_name": "LayoutModel",
     "state": {
      "_model_module": "@jupyter-widgets/base",
      "_model_module_version": "1.2.0",
      "_model_name": "LayoutModel",
      "_view_count": null,
      "_view_module": "@jupyter-widgets/base",
      "_view_module_version": "1.2.0",
      "_view_name": "LayoutView",
      "align_content": null,
      "align_items": null,
      "align_self": null,
      "border": null,
      "bottom": null,
      "display": "inline-flex",
      "flex": null,
      "flex_flow": "row wrap",
      "grid_area": null,
      "grid_auto_columns": null,
      "grid_auto_flow": null,
      "grid_auto_rows": null,
      "grid_column": null,
      "grid_gap": null,
      "grid_row": null,
      "grid_template_areas": null,
      "grid_template_columns": null,
      "grid_template_rows": null,
      "height": null,
      "justify_content": null,
      "justify_items": null,
      "left": null,
      "margin": null,
      "max_height": null,
      "max_width": null,
      "min_height": null,
      "min_width": null,
      "object_fit": null,
      "object_position": null,
      "order": null,
      "overflow": null,
      "overflow_x": null,
      "overflow_y": null,
      "padding": null,
      "right": null,
      "top": null,
      "visibility": "hidden",
      "width": "100%"
     }
    },
    "d73731f8256e47d5b2946d2c9e29eb2d": {
     "model_module": "@jupyter-widgets/controls",
     "model_module_version": "1.5.0",
     "model_name": "ProgressStyleModel",
     "state": {
      "_model_module": "@jupyter-widgets/controls",
      "_model_module_version": "1.5.0",
      "_model_name": "ProgressStyleModel",
      "_view_count": null,
      "_view_module": "@jupyter-widgets/base",
      "_view_module_version": "1.2.0",
      "_view_name": "StyleView",
      "bar_color": null,
      "description_width": ""
     }
    },
    "d9b853f4acf94001ac51728abcceef65": {
     "model_module": "@jupyter-widgets/base",
     "model_module_version": "1.2.0",
     "model_name": "LayoutModel",
     "state": {
      "_model_module": "@jupyter-widgets/base",
      "_model_module_version": "1.2.0",
      "_model_name": "LayoutModel",
      "_view_count": null,
      "_view_module": "@jupyter-widgets/base",
      "_view_module_version": "1.2.0",
      "_view_name": "LayoutView",
      "align_content": null,
      "align_items": null,
      "align_self": null,
      "border": null,
      "bottom": null,
      "display": null,
      "flex": "2",
      "flex_flow": null,
      "grid_area": null,
      "grid_auto_columns": null,
      "grid_auto_flow": null,
      "grid_auto_rows": null,
      "grid_column": null,
      "grid_gap": null,
      "grid_row": null,
      "grid_template_areas": null,
      "grid_template_columns": null,
      "grid_template_rows": null,
      "height": null,
      "justify_content": null,
      "justify_items": null,
      "left": null,
      "margin": null,
      "max_height": null,
      "max_width": null,
      "min_height": null,
      "min_width": null,
      "object_fit": null,
      "object_position": null,
      "order": null,
      "overflow": null,
      "overflow_x": null,
      "overflow_y": null,
      "padding": null,
      "right": null,
      "top": null,
      "visibility": null,
      "width": null
     }
    },
    "e300c7733300444394a28b61f46be94f": {
     "model_module": "@jupyter-widgets/base",
     "model_module_version": "1.2.0",
     "model_name": "LayoutModel",
     "state": {
      "_model_module": "@jupyter-widgets/base",
      "_model_module_version": "1.2.0",
      "_model_name": "LayoutModel",
      "_view_count": null,
      "_view_module": "@jupyter-widgets/base",
      "_view_module_version": "1.2.0",
      "_view_name": "LayoutView",
      "align_content": null,
      "align_items": null,
      "align_self": null,
      "border": null,
      "bottom": null,
      "display": null,
      "flex": null,
      "flex_flow": null,
      "grid_area": null,
      "grid_auto_columns": null,
      "grid_auto_flow": null,
      "grid_auto_rows": null,
      "grid_column": null,
      "grid_gap": null,
      "grid_row": null,
      "grid_template_areas": null,
      "grid_template_columns": null,
      "grid_template_rows": null,
      "height": null,
      "justify_content": null,
      "justify_items": null,
      "left": null,
      "margin": null,
      "max_height": null,
      "max_width": null,
      "min_height": null,
      "min_width": null,
      "object_fit": null,
      "object_position": null,
      "order": null,
      "overflow": null,
      "overflow_x": null,
      "overflow_y": null,
      "padding": null,
      "right": null,
      "top": null,
      "visibility": null,
      "width": null
     }
    },
    "e909e29433bc4b25986c804a4e9d683f": {
     "model_module": "@jupyter-widgets/controls",
     "model_module_version": "1.5.0",
     "model_name": "HTMLModel",
     "state": {
      "_dom_classes": [],
      "_model_module": "@jupyter-widgets/controls",
      "_model_module_version": "1.5.0",
      "_model_name": "HTMLModel",
      "_view_count": null,
      "_view_module": "@jupyter-widgets/controls",
      "_view_module_version": "1.5.0",
      "_view_name": "HTMLView",
      "description": "",
      "description_tooltip": null,
      "layout": "IPY_MODEL_f2023928b44f4e66816c01daa4b3fc6a",
      "placeholder": "​",
      "style": "IPY_MODEL_32be5a53c42a4ac39eae5262351df36e",
      "value": " 2/2 [00:02&lt;00:00,  0.77it/s]"
     }
    },
    "ecb5a57845384bab85ea97d5d54e108a": {
     "model_module": "@jupyter-widgets/base",
     "model_module_version": "1.2.0",
     "model_name": "LayoutModel",
     "state": {
      "_model_module": "@jupyter-widgets/base",
      "_model_module_version": "1.2.0",
      "_model_name": "LayoutModel",
      "_view_count": null,
      "_view_module": "@jupyter-widgets/base",
      "_view_module_version": "1.2.0",
      "_view_name": "LayoutView",
      "align_content": null,
      "align_items": null,
      "align_self": null,
      "border": null,
      "bottom": null,
      "display": null,
      "flex": null,
      "flex_flow": null,
      "grid_area": null,
      "grid_auto_columns": null,
      "grid_auto_flow": null,
      "grid_auto_rows": null,
      "grid_column": null,
      "grid_gap": null,
      "grid_row": null,
      "grid_template_areas": null,
      "grid_template_columns": null,
      "grid_template_rows": null,
      "height": null,
      "justify_content": null,
      "justify_items": null,
      "left": null,
      "margin": null,
      "max_height": null,
      "max_width": null,
      "min_height": null,
      "min_width": null,
      "object_fit": null,
      "object_position": null,
      "order": null,
      "overflow": null,
      "overflow_x": null,
      "overflow_y": null,
      "padding": null,
      "right": null,
      "top": null,
      "visibility": null,
      "width": null
     }
    },
    "f2023928b44f4e66816c01daa4b3fc6a": {
     "model_module": "@jupyter-widgets/base",
     "model_module_version": "1.2.0",
     "model_name": "LayoutModel",
     "state": {
      "_model_module": "@jupyter-widgets/base",
      "_model_module_version": "1.2.0",
      "_model_name": "LayoutModel",
      "_view_count": null,
      "_view_module": "@jupyter-widgets/base",
      "_view_module_version": "1.2.0",
      "_view_name": "LayoutView",
      "align_content": null,
      "align_items": null,
      "align_self": null,
      "border": null,
      "bottom": null,
      "display": null,
      "flex": null,
      "flex_flow": null,
      "grid_area": null,
      "grid_auto_columns": null,
      "grid_auto_flow": null,
      "grid_auto_rows": null,
      "grid_column": null,
      "grid_gap": null,
      "grid_row": null,
      "grid_template_areas": null,
      "grid_template_columns": null,
      "grid_template_rows": null,
      "height": null,
      "justify_content": null,
      "justify_items": null,
      "left": null,
      "margin": null,
      "max_height": null,
      "max_width": null,
      "min_height": null,
      "min_width": null,
      "object_fit": null,
      "object_position": null,
      "order": null,
      "overflow": null,
      "overflow_x": null,
      "overflow_y": null,
      "padding": null,
      "right": null,
      "top": null,
      "visibility": null,
      "width": null
     }
    }
   }
  }
 },
 "nbformat": 4,
 "nbformat_minor": 1
}
